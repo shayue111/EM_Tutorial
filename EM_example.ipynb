{
 "cells": [
  {
   "cell_type": "code",
   "execution_count": 1,
   "metadata": {},
   "outputs": [],
   "source": [
    "import numpy as np\n",
    "import matplotlib.pyplot as plt\n",
    "import seaborn as sns\n",
    "from tqdm.notebook import tqdm\n",
    "\n",
    "plt.style.use('seaborn')\n",
    "np.random.seed(2020)"
   ]
  },
  {
   "cell_type": "code",
   "execution_count": 2,
   "metadata": {},
   "outputs": [],
   "source": [
    "def prams_init():\n",
    "    mu1, delta1, mu2, delta2 = np.random.randint(1, 50, 4)\n",
    "    w1 = np.round(np.random.random(1)[0], 3) # 保留三位小数\n",
    "    w2 = 1 - w1\n",
    "    return mu1, delta1, mu2, delta2, w1, w2"
   ]
  },
  {
   "cell_type": "code",
   "execution_count": 3,
   "metadata": {},
   "outputs": [
    {
     "name": "stdout",
     "output_type": "stream",
     "text": [
      "33 9 4 4 0.22 0.78\n"
     ]
    }
   ],
   "source": [
    "# 生成一维高斯\n",
    "mu_a, delta_a, mu_b, delta_b, alpha_a, alpha_b = prams_init()\n",
    "print(mu_a, delta_a, mu_b, delta_b, alpha_a, alpha_b)"
   ]
  },
  {
   "cell_type": "code",
   "execution_count": 4,
   "metadata": {},
   "outputs": [],
   "source": [
    "gaussian_a = np.random.normal(mu_a, delta_a, int(100000 * alpha_a))\n",
    "gaussian_b = np.random.normal(mu_b, delta_b, int(100000 * alpha_b))\n",
    "gaussian_mixture = np.concatenate((gaussian_a, gaussian_b))"
   ]
  },
  {
   "cell_type": "code",
   "execution_count": 5,
   "metadata": {},
   "outputs": [
    {
     "data": {
      "image/png": "[encoded data removed]",
      "text/plain": [
       "<Figure size 1440x720 with 2 Axes>"
      ]
     },
     "metadata": {},
     "output_type": "display_data"
    }
   ],
   "source": [
    "fig, axes = plt.subplots(nrows=1, ncols=2, figsize=(20, 10), sharey=True)\n",
    "axes[0].hist(gaussian_a, bins=100)\n",
    "axes[0].hist(gaussian_b, bins=100)\n",
    "axes[1].hist(gaussian_mixture, bins=100)\n",
    "plt.show()"
   ]
  },
  {
   "cell_type": "code",
   "execution_count": 6,
   "metadata": {},
   "outputs": [],
   "source": [
    "def probability_density_function(x, mu, delta):\n",
    "    \"\"\"\n",
    "    一维高斯的密度函数\n",
    "    \"\"\"\n",
    "    return np.exp(-(x - mu) ** 2 / (2 * delta ** 2)) / (np.sqrt(2 * np.pi) * delta)"
   ]
  },
  {
   "cell_type": "code",
   "execution_count": 7,
   "metadata": {},
   "outputs": [
    {
     "name": "stdout",
     "output_type": "stream",
     "text": [
      "30 4 4 14 0.5 0.5\n"
     ]
    },
    {
     "data": {
      "application/vnd.jupyter.widget-view+json": {
       "model_id": "4e0af371d3a84910bf82de39c5131fd1",
       "version_major": 2,
       "version_minor": 0
      },
      "text/plain": [
       "HBox(children=(FloatProgress(value=0.0, max=10000.0), HTML(value='')))"
      ]
     },
     "metadata": {},
     "output_type": "display_data"
    },
    {
     "name": "stdout",
     "output_type": "stream",
     "text": [
      "\n"
     ]
    }
   ],
   "source": [
    "mu1, delta1, mu2, delta2, w1, w2 = prams_init()\n",
    "w1 = w2 = 0.5\n",
    "print(mu1, delta1, mu2, delta2, w1, w2)\n",
    "\n",
    "for cnt in tqdm(range(10000)):\n",
    "    \"\"\"\n",
    "    EM主体\n",
    "    \"\"\"\n",
    "    # E-step:\n",
    "    tmp1 = w1 * probability_density_function(gaussian_mixture, mu1, delta1)\n",
    "    tmp2 = w2 * probability_density_function(gaussian_mixture, mu2, delta2)\n",
    "    r_j1s = tmp1 / (tmp1 + tmp2)\n",
    "    r_j2s = tmp2 / (tmp1 + tmp2)\n",
    "    \n",
    "    # M-step:\n",
    "    mu1 = (r_j1s @ gaussian_mixture) / np.sum(r_j1s)\n",
    "    mu2 = (r_j2s @ gaussian_mixture) / np.sum(r_j2s)\n",
    "    delta1 = np.sqrt(r_j1s @ ((gaussian_mixture - mu1) ** 2) / np.sum(r_j1s))\n",
    "    delta2 = np.sqrt(r_j2s @ ((gaussian_mixture - mu2) ** 2) / np.sum(r_j2s))\n",
    "    w1 = np.sum(r_j1s) / gaussian_mixture.shape[0]\n",
    "    w2 = np.sum(r_j2s) / gaussian_mixture.shape[0]"
   ]
  },
  {
   "cell_type": "code",
   "execution_count": 8,
   "metadata": {},
   "outputs": [
    {
     "data": {
      "text/plain": [
       "(33, 9, 4, 4, 0.22, 0.78)"
      ]
     },
     "execution_count": 8,
     "metadata": {},
     "output_type": "execute_result"
    }
   ],
   "source": [
    "# 真实的参数\n",
    "mu_a, delta_a, mu_b, delta_b, alpha_a, alpha_b"
   ]
  },
  {
   "cell_type": "code",
   "execution_count": 9,
   "metadata": {},
   "outputs": [
    {
     "data": {
      "text/plain": [
       "(33.01064125144592,\n",
       " 8.948048702707993,\n",
       " 4.015731789718696,\n",
       " 4.009363570410087,\n",
       " 0.21955453076131717,\n",
       " 0.780445469238683)"
      ]
     },
     "execution_count": 9,
     "metadata": {},
     "output_type": "execute_result"
    }
   ],
   "source": [
    "# 估计的参数\n",
    "mu1, delta1, mu2, delta2, w1, w2"
   ]
  },
  {
   "cell_type": "markdown",
   "metadata": {},
   "source": [
    "EM算法求解GMM模型的参数时,对参数的初值十分敏感,不同的初值,最后达到的收敛效果也不尽相同."
   ]
  },
  {
   "cell_type": "markdown",
   "metadata": {},
   "source": [
    "二维高斯混合模型参照http://sofasofa.io/tutorials/gmm_em/"
   ]
  },
  {
   "cell_type": "code",
   "execution_count": null,
   "metadata": {},
   "outputs": [],
   "source": []
  }
 ],
 "metadata": {
  "kernelspec": {
   "display_name": "Python 3",
   "language": "python",
   "name": "python3"
  },
  "language_info": {
   "codemirror_mode": {
    "name": "ipython",
    "version": 3
   },
   "file_extension": ".py",
   "mimetype": "text/x-python",
   "name": "python",
   "nbconvert_exporter": "python",
   "pygments_lexer": "ipython3",
   "version": "3.7.6"
  },
  "toc": {
   "base_numbering": 1,
   "nav_menu": {},
   "number_sections": true,
   "sideBar": true,
   "skip_h1_title": false,
   "title_cell": "Table of Contents",
   "title_sidebar": "Contents",
   "toc_cell": false,
   "toc_position": {},
   "toc_section_display": true,
   "toc_window_display": false
  },
  "varInspector": {
   "cols": {
    "lenName": 16,
    "lenType": 16,
    "lenVar": 40
   },
   "kernels_config": {
    "python": {
     "delete_cmd_postfix": "",
     "delete_cmd_prefix": "del ",
     "library": "var_list.py",
     "varRefreshCmd": "print(var_dic_list())"
    },
    "r": {
     "delete_cmd_postfix": ") ",
     "delete_cmd_prefix": "rm(",
     "library": "var_list.r",
     "varRefreshCmd": "cat(var_dic_list()) "
    }
   },
   "types_to_exclude": [
    "module",
    "function",
    "builtin_function_or_method",
    "instance",
    "_Feature"
   ],
   "window_display": false
  }
 },
 "nbformat": 4,
 "nbformat_minor": 4
}
